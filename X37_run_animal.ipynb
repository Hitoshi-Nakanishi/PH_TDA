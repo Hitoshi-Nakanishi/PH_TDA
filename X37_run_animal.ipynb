{
 "cells": [
  {
   "cell_type": "code",
   "execution_count": 1,
   "metadata": {},
   "outputs": [
    {
     "name": "stderr",
     "output_type": "stream",
     "text": [
      "UsageError: Line magic function `%autorelaod` not found.\n"
     ]
    }
   ],
   "source": [
    "%load_ext autoreload\n",
    "%autorelaod 2"
   ]
  },
  {
   "cell_type": "code",
   "execution_count": 2,
   "metadata": {},
   "outputs": [
    {
     "name": "stderr",
     "output_type": "stream",
     "text": [
      "/notebooks/DockerShared/Pytorch3/PH_TDA/tda-toolkit/pershombox/_software_backends/resource_handler.py:91: UserWarning: The following backends are not properly configured\n",
      "dipha\n",
      "hera_wasserstein_dist\n",
      "perseus\n",
      "Using stuff dependent on those backends will cause runtime errors.\n",
      "You can get all errors by calling pershombox.get_backend_cfg_errors().\n",
      "\n",
      "  warnings.warn(error_text, UserWarning)\n"
     ]
    }
   ],
   "source": [
    "import os, sys, time\n",
    "import numpy as np\n",
    "cwd = os.getcwd()\n",
    "parent = os.path.join(cwd, os.path.join(os.path.dirname(\"__file__\")))\n",
    "sys.path.append(os.path.join(parent, 'chofer_torchex'))\n",
    "sys.path.append(os.path.join(parent, 'tda-toolkit'))\n",
    "\n",
    "from src.animal.generate_dgm_provider import generate_dgm_provider\n",
    "from src.animal.experiments import experiment\n",
    "from src.sharedCode.data_downloader import download_provider, download_raw_data\n",
    "from src.sharedCode.gui import ask_user_for_provider_or_data_set_download\n",
    "provider_path = os.path.join(os.path.dirname(\"__file__\"), 'data/dgm_provider/npht_animal_32dirs.h5')\n",
    "raw_data_path = os.path.join(os.path.dirname(\"__file__\"), 'data/raw_data/animal')"
   ]
  },
  {
   "cell_type": "code",
   "execution_count": 4,
   "metadata": {},
   "outputs": [
    {
     "name": "stdout",
     "output_type": "stream",
     "text": [
      "Found persistence diagram provider!\n"
     ]
    }
   ],
   "source": [
    "if not os.path.isfile(provider_path):\n",
    "    choice = ask_user_for_provider_or_data_set_download()\n",
    "    if choice == \"download_data_set\":\n",
    "        download_raw_data(\"animal\")\n",
    "        generate_dgm_provider(raw_data_path, provider_path, 32)\n",
    "    elif choice == \"download_provider\":\n",
    "        download_provider('animal')\n",
    "        time.sleep(1)\n",
    "else:\n",
    "    print('Found persistence diagram provider!')"
   ]
  },
  {
   "cell_type": "code",
   "execution_count": null,
   "metadata": {},
   "outputs": [
    {
     "name": "stdout",
     "output_type": "stream",
     "text": [
      "Starting experiment...\n",
      "Start run 1\n",
      "Data setup...\n",
      "Loading provider...\n",
      "Create data loader...\n",
      "Create model...\n",
      "Setup trainer...\n",
      "Starting...\n"
     ]
    },
    {
     "name": "stderr",
     "output_type": "stream",
     "text": [
      "/notebooks/DockerShared/Pytorch3/PH_TDA/chofer_torchex/chofer_torchex/nn/slayer.py:320: FutureWarning: Renaming in progress. In future use SLayerExponential.\n",
      "  warnings.warn(\"Renaming in progress. In future use SLayerExponential.\", FutureWarning)\n"
     ]
    },
    {
     "name": "stdout",
     "output_type": "stream",
     "text": [
      "Epoch 1/300 Batch 12/15 (80.00 %)                 \r"
     ]
    }
   ],
   "source": [
    "print('Starting experiment...')\n",
    "accuracies = []\n",
    "n_runs = 5\n",
    "for i in range(1, n_runs + 1):\n",
    "    print('Start run {}'.format(i))\n",
    "    result = experiment(provider_path)\n",
    "    accuracies.append(result)\n",
    "\n",
    "with open(os.path.join(os.path.dirname(\"__file__\"), 'result_animal_04987.txt'), 'w') as f:\n",
    "    for i, r in enumerate(accuracies):\n",
    "        f.write('Run {}: {}\\n'.format(i, r))\n",
    "    f.write('\\n')\n",
    "    f.write('mean: {}\\n'.format(np.mean(accuracies)))"
   ]
  },
  {
   "cell_type": "code",
   "execution_count": null,
   "metadata": {},
   "outputs": [],
   "source": []
  },
  {
   "cell_type": "code",
   "execution_count": null,
   "metadata": {},
   "outputs": [],
   "source": []
  },
  {
   "cell_type": "code",
   "execution_count": null,
   "metadata": {},
   "outputs": [],
   "source": []
  }
 ],
 "metadata": {
  "kernelspec": {
   "display_name": "Python 3",
   "language": "python",
   "name": "python3"
  },
  "language_info": {
   "codemirror_mode": {
    "name": "ipython",
    "version": 3
   },
   "file_extension": ".py",
   "mimetype": "text/x-python",
   "name": "python",
   "nbconvert_exporter": "python",
   "pygments_lexer": "ipython3",
   "version": "3.6.8"
  }
 },
 "nbformat": 4,
 "nbformat_minor": 2
}
